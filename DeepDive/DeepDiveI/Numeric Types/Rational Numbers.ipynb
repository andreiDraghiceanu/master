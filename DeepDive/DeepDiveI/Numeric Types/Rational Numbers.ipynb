{
 "cells": [
  {
   "cell_type": "raw",
   "metadata": {},
   "source": [
    "from fractions import Fraction\n",
    "x = Fraction(3, 4)\n",
    "y = Fraction(22, 7)\n",
    "z = Fraction(6, 10)\n",
    "\n",
    "Fractions are automatically reduced:\n",
    "    Fraction(6, 10) -> Fraction(3, 5)\n",
    "Negative sign, if any, is always attached to the numerator:\n",
    "    Fraction(1, -4) -> Fraction(-1, 4)\n",
    "Fraction(numerator=0, denominator=1)\n",
    "Fraction(other_fraction)\n",
    "Fraction(float)\n",
    "Fraction(decimal)\n",
    "Fraction(string)\n",
    "    Fraction('10') -> Fraction(10, 1)\n",
    "    Fraction('0.125') -> Fraction(1, 8)\n",
    "    Fraction('22/7') -> Fraction(22, 7)\n",
    "Fraction(2, 3) * Fraction(1, 2) -> Fraction(1, 3)\n",
    "\n",
    "x = Fraction(22, 7)\n",
    "x.numerator -> 22\n",
    "x.denominator -> 7\n",
    "float objects have finite precision -> any float object can be written as a fraction!"
   ]
  },
  {
   "cell_type": "code",
   "execution_count": null,
   "metadata": {},
   "outputs": [],
   "source": []
  }
 ],
 "metadata": {
  "kernelspec": {
   "display_name": "Python 3",
   "language": "python",
   "name": "python3"
  },
  "language_info": {
   "codemirror_mode": {
    "name": "ipython",
    "version": 3
   },
   "file_extension": ".py",
   "mimetype": "text/x-python",
   "name": "python",
   "nbconvert_exporter": "python",
   "pygments_lexer": "ipython3",
   "version": "3.8.2"
  }
 },
 "nbformat": 4,
 "nbformat_minor": 4
}
