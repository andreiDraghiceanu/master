{
 "cells": [
  {
   "cell_type": "raw",
   "metadata": {},
   "source": [
    "n: number (base 10)\n",
    "b: base (target base)\n",
    "n = b * (n // b) + n % b\n",
    "n = (n // b) * b + n % b\n",
    "Base Change Algorithm:\n",
    "n = b - 10 number (>= 0) b = base (>= 2)\n",
    "if b < 2 or n < 0: raise exception\n",
    "if n == 0: return [0]\n",
    "digits = [ ]\n",
    "while n > 0:\n",
    "    m = n % b\n",
    "    n = n // b\n",
    "    digits.insert(0, m)"
   ]
  },
  {
   "cell_type": "code",
   "execution_count": 22,
   "metadata": {},
   "outputs": [
    {
     "name": "stdout",
     "output_type": "stream",
     "text": [
      "[13]\n",
      "13\n",
      "[12, 13]\n",
      "1213\n",
      "[5, 12, 13]\n",
      "51213\n"
     ]
    }
   ],
   "source": [
    "n = 1485 \n",
    "b = 16\n",
    "l = []\n",
    "string = \"\"\n",
    "i = 0\n",
    "try:\n",
    "    while n > 0:\n",
    "        m = n % b\n",
    "        n = n // b\n",
    "        l.insert(-1 - i, m)\n",
    "        i += 1\n",
    "        string = str(m) + string\n",
    "        print(l)\n",
    "        print(string)\n",
    "except b < 2 or n < 0:\n",
    "    raise Exception"
   ]
  },
  {
   "cell_type": "raw",
   "metadata": {},
   "source": [
    "Encoding Algorithm:\n",
    "digits = [ ... ]\n",
    "map = ' ... '\n",
    "encoding = ''\n",
    "for d in digits:\n",
    "    encoding += map[d]\n",
    "    \n",
    "or, more simply:\n",
    "encoding = ''.join([map[d] for d in digits])\n"
   ]
  },
  {
   "cell_type": "code",
   "execution_count": 45,
   "metadata": {},
   "outputs": [
    {
     "name": "stdout",
     "output_type": "stream",
     "text": [
      "abc\n"
     ]
    }
   ],
   "source": [
    "digits = [1, 2, 3]\n",
    "mapper = 'abc'\n",
    "encoding = ''\n",
    "for d in digits:\n",
    "    encoding += mapper[digits.index(d)]\n",
    "print(encoding)"
   ]
  }
 ],
 "metadata": {
  "kernelspec": {
   "display_name": "Python 3",
   "language": "python",
   "name": "python3"
  },
  "language_info": {
   "codemirror_mode": {
    "name": "ipython",
    "version": 3
   },
   "file_extension": ".py",
   "mimetype": "text/x-python",
   "name": "python",
   "nbconvert_exporter": "python",
   "pygments_lexer": "ipython3",
   "version": "3.8.2"
  }
 },
 "nbformat": 4,
 "nbformat_minor": 4
}
