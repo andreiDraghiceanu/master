{
 "cells": [
  {
   "cell_type": "code",
   "execution_count": 3,
   "metadata": {},
   "outputs": [
    {
     "name": "stdout",
     "output_type": "stream",
     "text": [
      "a >= 5\n"
     ]
    }
   ],
   "source": [
    "a = 6\n",
    "\n",
    "if a < 5:\n",
    "    print('a < 5')\n",
    "else:\n",
    "    print('a >= 5')\n",
    "        "
   ]
  },
  {
   "cell_type": "code",
   "execution_count": 7,
   "metadata": {},
   "outputs": [
    {
     "name": "stdout",
     "output_type": "stream",
     "text": [
      "5 <= a < 10\n"
     ]
    }
   ],
   "source": [
    "a = 8\n",
    "\n",
    "if a < 5:\n",
    "    print('a < 5')\n",
    "else:\n",
    "    if a < 10:\n",
    "        print('5 <= a < 10')\n",
    "    else:\n",
    "        print('a <= 10')"
   ]
  },
  {
   "cell_type": "code",
   "execution_count": 9,
   "metadata": {},
   "outputs": [
    {
     "name": "stdout",
     "output_type": "stream",
     "text": [
      "a > 20\n"
     ]
    }
   ],
   "source": [
    "a = 25\n",
    "\n",
    "if a < 5:\n",
    "    print('a < 5')\n",
    "elif a < 10:\n",
    "    print('5 <= a < 10')\n",
    "elif a < 15:\n",
    "    print('10 <= a < 15')\n",
    "elif a < 20:\n",
    "    print('15 <= a < 20')\n",
    "else:\n",
    "    print('a > 20')        "
   ]
  },
  {
   "cell_type": "markdown",
   "metadata": {},
   "source": [
    "X if (condition is true) else Y"
   ]
  },
  {
   "cell_type": "code",
   "execution_count": 15,
   "metadata": {},
   "outputs": [
    {
     "name": "stdout",
     "output_type": "stream",
     "text": [
      "a >= 5\n"
     ]
    }
   ],
   "source": [
    "a = 25\n",
    "\n",
    "if a < 5:\n",
    "    b= 'a < 5'\n",
    "else:\n",
    "    b = 'a >= 5'\n",
    "        \n",
    "print(b)"
   ]
  },
  {
   "cell_type": "code",
   "execution_count": 16,
   "metadata": {},
   "outputs": [],
   "source": [
    "b = 'a < 5' if a < 5 else 'a >= 5'"
   ]
  },
  {
   "cell_type": "code",
   "execution_count": 17,
   "metadata": {},
   "outputs": [
    {
     "name": "stdout",
     "output_type": "stream",
     "text": [
      "a >= 5\n"
     ]
    }
   ],
   "source": [
    "print(b)"
   ]
  },
  {
   "cell_type": "code",
   "execution_count": 18,
   "metadata": {},
   "outputs": [
    {
     "data": {
      "text/plain": [
       "25"
      ]
     },
     "execution_count": 18,
     "metadata": {},
     "output_type": "execute_result"
    }
   ],
   "source": [
    "a"
   ]
  },
  {
   "cell_type": "code",
   "execution_count": 19,
   "metadata": {},
   "outputs": [],
   "source": [
    "a = 4"
   ]
  },
  {
   "cell_type": "code",
   "execution_count": 20,
   "metadata": {},
   "outputs": [
    {
     "data": {
      "text/plain": [
       "'a < 5'"
      ]
     },
     "execution_count": 20,
     "metadata": {},
     "output_type": "execute_result"
    }
   ],
   "source": [
    "'a < 5' if a < 5 else 'a >= 5'"
   ]
  },
  {
   "cell_type": "code",
   "execution_count": null,
   "metadata": {},
   "outputs": [],
   "source": []
  }
 ],
 "metadata": {
  "kernelspec": {
   "display_name": "Python 3",
   "language": "python",
   "name": "python3"
  },
  "language_info": {
   "codemirror_mode": {
    "name": "ipython",
    "version": 3
   },
   "file_extension": ".py",
   "mimetype": "text/x-python",
   "name": "python",
   "nbconvert_exporter": "python",
   "pygments_lexer": "ipython3",
   "version": "3.8.2"
  }
 },
 "nbformat": 4,
 "nbformat_minor": 4
}
