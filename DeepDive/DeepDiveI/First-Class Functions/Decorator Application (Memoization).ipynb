{
 "cells": [
  {
   "cell_type": "markdown",
   "metadata": {},
   "source": [
    "Decorator Application (Memoization)"
   ]
  },
  {
   "cell_type": "code",
   "execution_count": 1,
   "metadata": {},
   "outputs": [],
   "source": [
    "def fib(n):\n",
    "    print('Calculating fib({0})'.format(n))\n",
    "    return 1 if n < 3 else fib(n-1) + fib(n-2)"
   ]
  },
  {
   "cell_type": "code",
   "execution_count": 2,
   "metadata": {},
   "outputs": [
    {
     "name": "stdout",
     "output_type": "stream",
     "text": [
      "Calculating fib(10)\n",
      "Calculating fib(9)\n",
      "Calculating fib(8)\n",
      "Calculating fib(7)\n",
      "Calculating fib(6)\n",
      "Calculating fib(5)\n",
      "Calculating fib(4)\n",
      "Calculating fib(3)\n",
      "Calculating fib(2)\n",
      "Calculating fib(1)\n",
      "Calculating fib(2)\n",
      "Calculating fib(3)\n",
      "Calculating fib(2)\n",
      "Calculating fib(1)\n",
      "Calculating fib(4)\n",
      "Calculating fib(3)\n",
      "Calculating fib(2)\n",
      "Calculating fib(1)\n",
      "Calculating fib(2)\n",
      "Calculating fib(5)\n",
      "Calculating fib(4)\n",
      "Calculating fib(3)\n",
      "Calculating fib(2)\n",
      "Calculating fib(1)\n",
      "Calculating fib(2)\n",
      "Calculating fib(3)\n",
      "Calculating fib(2)\n",
      "Calculating fib(1)\n",
      "Calculating fib(6)\n",
      "Calculating fib(5)\n",
      "Calculating fib(4)\n",
      "Calculating fib(3)\n",
      "Calculating fib(2)\n",
      "Calculating fib(1)\n",
      "Calculating fib(2)\n",
      "Calculating fib(3)\n",
      "Calculating fib(2)\n",
      "Calculating fib(1)\n",
      "Calculating fib(4)\n",
      "Calculating fib(3)\n",
      "Calculating fib(2)\n",
      "Calculating fib(1)\n",
      "Calculating fib(2)\n",
      "Calculating fib(7)\n",
      "Calculating fib(6)\n",
      "Calculating fib(5)\n",
      "Calculating fib(4)\n",
      "Calculating fib(3)\n",
      "Calculating fib(2)\n",
      "Calculating fib(1)\n",
      "Calculating fib(2)\n",
      "Calculating fib(3)\n",
      "Calculating fib(2)\n",
      "Calculating fib(1)\n",
      "Calculating fib(4)\n",
      "Calculating fib(3)\n",
      "Calculating fib(2)\n",
      "Calculating fib(1)\n",
      "Calculating fib(2)\n",
      "Calculating fib(5)\n",
      "Calculating fib(4)\n",
      "Calculating fib(3)\n",
      "Calculating fib(2)\n",
      "Calculating fib(1)\n",
      "Calculating fib(2)\n",
      "Calculating fib(3)\n",
      "Calculating fib(2)\n",
      "Calculating fib(1)\n",
      "Calculating fib(8)\n",
      "Calculating fib(7)\n",
      "Calculating fib(6)\n",
      "Calculating fib(5)\n",
      "Calculating fib(4)\n",
      "Calculating fib(3)\n",
      "Calculating fib(2)\n",
      "Calculating fib(1)\n",
      "Calculating fib(2)\n",
      "Calculating fib(3)\n",
      "Calculating fib(2)\n",
      "Calculating fib(1)\n",
      "Calculating fib(4)\n",
      "Calculating fib(3)\n",
      "Calculating fib(2)\n",
      "Calculating fib(1)\n",
      "Calculating fib(2)\n",
      "Calculating fib(5)\n",
      "Calculating fib(4)\n",
      "Calculating fib(3)\n",
      "Calculating fib(2)\n",
      "Calculating fib(1)\n",
      "Calculating fib(2)\n",
      "Calculating fib(3)\n",
      "Calculating fib(2)\n",
      "Calculating fib(1)\n",
      "Calculating fib(6)\n",
      "Calculating fib(5)\n",
      "Calculating fib(4)\n",
      "Calculating fib(3)\n",
      "Calculating fib(2)\n",
      "Calculating fib(1)\n",
      "Calculating fib(2)\n",
      "Calculating fib(3)\n",
      "Calculating fib(2)\n",
      "Calculating fib(1)\n",
      "Calculating fib(4)\n",
      "Calculating fib(3)\n",
      "Calculating fib(2)\n",
      "Calculating fib(1)\n",
      "Calculating fib(2)\n"
     ]
    },
    {
     "data": {
      "text/plain": [
       "55"
      ]
     },
     "execution_count": 2,
     "metadata": {},
     "output_type": "execute_result"
    }
   ],
   "source": [
    "fib(10)"
   ]
  },
  {
   "cell_type": "code",
   "execution_count": 3,
   "metadata": {},
   "outputs": [],
   "source": [
    "class Fib:\n",
    "    def __init__(self):\n",
    "        self.cache = {1: 1, 2: 1}\n",
    "        \n",
    "    def fib(self, n):\n",
    "        if n not in self.cache:\n",
    "            print('Calculating fib({0})'.format(n))\n",
    "            self.cache[n] = self.fib(n-1) + self.fib(n-2)\n",
    "        return self.cache[n]\n",
    "        "
   ]
  },
  {
   "cell_type": "code",
   "execution_count": 4,
   "metadata": {},
   "outputs": [],
   "source": [
    "f = Fib()"
   ]
  },
  {
   "cell_type": "code",
   "execution_count": 5,
   "metadata": {},
   "outputs": [
    {
     "name": "stdout",
     "output_type": "stream",
     "text": [
      "Calculating fib(10)\n",
      "Calculating fib(9)\n",
      "Calculating fib(8)\n",
      "Calculating fib(7)\n",
      "Calculating fib(6)\n",
      "Calculating fib(5)\n",
      "Calculating fib(4)\n",
      "Calculating fib(3)\n"
     ]
    },
    {
     "data": {
      "text/plain": [
       "55"
      ]
     },
     "execution_count": 5,
     "metadata": {},
     "output_type": "execute_result"
    }
   ],
   "source": [
    "f.fib(10)"
   ]
  },
  {
   "cell_type": "code",
   "execution_count": 6,
   "metadata": {},
   "outputs": [],
   "source": [
    "def fib():\n",
    "    cache = {1: 1, 2: 1}\n",
    "    \n",
    "    def calc_fib(n):\n",
    "        if n not in cache:\n",
    "            print('Calculating fib({0})'.format(n))\n",
    "            cache[n] = calc_fib(n-1) + calc_fib(n-2)\n",
    "        return cache[n]\n",
    "    \n",
    "    return calc_fib"
   ]
  },
  {
   "cell_type": "code",
   "execution_count": 7,
   "metadata": {},
   "outputs": [],
   "source": [
    "f = fib()"
   ]
  },
  {
   "cell_type": "code",
   "execution_count": 8,
   "metadata": {},
   "outputs": [
    {
     "name": "stdout",
     "output_type": "stream",
     "text": [
      "Calculating fib(10)\n",
      "Calculating fib(9)\n",
      "Calculating fib(8)\n",
      "Calculating fib(7)\n",
      "Calculating fib(6)\n",
      "Calculating fib(5)\n",
      "Calculating fib(4)\n",
      "Calculating fib(3)\n"
     ]
    },
    {
     "data": {
      "text/plain": [
       "55"
      ]
     },
     "execution_count": 8,
     "metadata": {},
     "output_type": "execute_result"
    }
   ],
   "source": [
    "f(10)"
   ]
  },
  {
   "cell_type": "code",
   "execution_count": 9,
   "metadata": {},
   "outputs": [],
   "source": [
    "g = fib()"
   ]
  },
  {
   "cell_type": "code",
   "execution_count": 10,
   "metadata": {},
   "outputs": [
    {
     "name": "stdout",
     "output_type": "stream",
     "text": [
      "Calculating fib(10)\n",
      "Calculating fib(9)\n",
      "Calculating fib(8)\n",
      "Calculating fib(7)\n",
      "Calculating fib(6)\n",
      "Calculating fib(5)\n",
      "Calculating fib(4)\n",
      "Calculating fib(3)\n"
     ]
    },
    {
     "data": {
      "text/plain": [
       "55"
      ]
     },
     "execution_count": 10,
     "metadata": {},
     "output_type": "execute_result"
    }
   ],
   "source": [
    "g(10)"
   ]
  },
  {
   "cell_type": "code",
   "execution_count": 11,
   "metadata": {},
   "outputs": [],
   "source": [
    "def memoize_fib(fib):\n",
    "    cache = {1: 1, 2: 1}\n",
    "    \n",
    "    def inner(n):\n",
    "        if n not in cache:\n",
    "            cache[n] = fib(n)\n",
    "        return cache[n]\n",
    "    \n",
    "    return inner"
   ]
  },
  {
   "cell_type": "code",
   "execution_count": 12,
   "metadata": {},
   "outputs": [],
   "source": [
    "@memoize_fib\n",
    "def fib(n):\n",
    "    print('Calculating fib({0})'.format(n))\n",
    "    return 1 if n < 3 else fib(n-1) + fib(n-2)"
   ]
  },
  {
   "cell_type": "code",
   "execution_count": 13,
   "metadata": {},
   "outputs": [
    {
     "name": "stdout",
     "output_type": "stream",
     "text": [
      "Calculating fib(10)\n",
      "Calculating fib(9)\n",
      "Calculating fib(8)\n",
      "Calculating fib(7)\n",
      "Calculating fib(6)\n",
      "Calculating fib(5)\n",
      "Calculating fib(4)\n",
      "Calculating fib(3)\n"
     ]
    },
    {
     "data": {
      "text/plain": [
       "55"
      ]
     },
     "execution_count": 13,
     "metadata": {},
     "output_type": "execute_result"
    }
   ],
   "source": [
    "fib(10)"
   ]
  },
  {
   "cell_type": "code",
   "execution_count": 14,
   "metadata": {},
   "outputs": [],
   "source": [
    "def memoize(fn):\n",
    "    cache = dict()\n",
    "    \n",
    "    def inner(n):\n",
    "        if n not in cache:\n",
    "            cache[n] = fn(n)\n",
    "        return cache[n]\n",
    "    \n",
    "    return inner"
   ]
  },
  {
   "cell_type": "code",
   "execution_count": 15,
   "metadata": {},
   "outputs": [],
   "source": [
    "@memoize\n",
    "def fib(n):\n",
    "    print('Calculating fib({0})'.format(n))\n",
    "    return 1 if n < 3 else fib(n-1) + fib(n-2)"
   ]
  },
  {
   "cell_type": "code",
   "execution_count": 16,
   "metadata": {},
   "outputs": [
    {
     "name": "stdout",
     "output_type": "stream",
     "text": [
      "Calculating fib(10)\n",
      "Calculating fib(9)\n",
      "Calculating fib(8)\n",
      "Calculating fib(7)\n",
      "Calculating fib(6)\n",
      "Calculating fib(5)\n",
      "Calculating fib(4)\n",
      "Calculating fib(3)\n",
      "Calculating fib(2)\n",
      "Calculating fib(1)\n"
     ]
    },
    {
     "data": {
      "text/plain": [
       "55"
      ]
     },
     "execution_count": 16,
     "metadata": {},
     "output_type": "execute_result"
    }
   ],
   "source": [
    "fib(10)"
   ]
  },
  {
   "cell_type": "code",
   "execution_count": 17,
   "metadata": {},
   "outputs": [
    {
     "name": "stdout",
     "output_type": "stream",
     "text": [
      "Calculating fib(11)\n"
     ]
    },
    {
     "data": {
      "text/plain": [
       "89"
      ]
     },
     "execution_count": 17,
     "metadata": {},
     "output_type": "execute_result"
    }
   ],
   "source": [
    "fib(11)"
   ]
  },
  {
   "cell_type": "code",
   "execution_count": 18,
   "metadata": {},
   "outputs": [],
   "source": [
    "@memoize\n",
    "def fact(n):\n",
    "    print('Calculating {0}!'.format(n))\n",
    "    return 1 if n< 2 else n* fact(n-1)"
   ]
  },
  {
   "cell_type": "code",
   "execution_count": 19,
   "metadata": {},
   "outputs": [
    {
     "name": "stdout",
     "output_type": "stream",
     "text": [
      "Calculating 6!\n",
      "Calculating 5!\n",
      "Calculating 4!\n",
      "Calculating 3!\n",
      "Calculating 2!\n",
      "Calculating 1!\n"
     ]
    },
    {
     "data": {
      "text/plain": [
       "720"
      ]
     },
     "execution_count": 19,
     "metadata": {},
     "output_type": "execute_result"
    }
   ],
   "source": [
    "fact(6)"
   ]
  },
  {
   "cell_type": "code",
   "execution_count": 20,
   "metadata": {},
   "outputs": [
    {
     "name": "stdout",
     "output_type": "stream",
     "text": [
      "Calculating 7!\n"
     ]
    },
    {
     "data": {
      "text/plain": [
       "5040"
      ]
     },
     "execution_count": 20,
     "metadata": {},
     "output_type": "execute_result"
    }
   ],
   "source": [
    "fact(7)"
   ]
  },
  {
   "cell_type": "code",
   "execution_count": 21,
   "metadata": {},
   "outputs": [],
   "source": [
    "@memoize\n",
    "def fib(n):\n",
    "    return 1 if n < 3 else fib(n-1) + fib(n-2)"
   ]
  },
  {
   "cell_type": "code",
   "execution_count": 22,
   "metadata": {},
   "outputs": [
    {
     "name": "stdout",
     "output_type": "stream",
     "text": [
      "280571172992510140037611932413038677189525\n",
      "0.00028969999999994833\n"
     ]
    }
   ],
   "source": [
    "from time import perf_counter\n",
    "start = perf_counter()\n",
    "print(fib(200))\n",
    "end = perf_counter()\n",
    "print(end - start)"
   ]
  },
  {
   "cell_type": "code",
   "execution_count": 23,
   "metadata": {},
   "outputs": [],
   "source": [
    "from functools import lru_cache"
   ]
  },
  {
   "cell_type": "code",
   "execution_count": 58,
   "metadata": {},
   "outputs": [],
   "source": [
    "@lru_cache(maxsize=8)\n",
    "def fib(n):\n",
    "    print('Calculating fib {0}'.format(n))\n",
    "    return 1 if n < 3 else fib(n-1) + fib(n-2)"
   ]
  },
  {
   "cell_type": "code",
   "execution_count": 59,
   "metadata": {},
   "outputs": [
    {
     "name": "stdout",
     "output_type": "stream",
     "text": [
      "Calculating fib 8\n",
      "Calculating fib 7\n",
      "Calculating fib 6\n",
      "Calculating fib 5\n",
      "Calculating fib 4\n",
      "Calculating fib 3\n",
      "Calculating fib 2\n",
      "Calculating fib 1\n"
     ]
    },
    {
     "data": {
      "text/plain": [
       "21"
      ]
     },
     "execution_count": 59,
     "metadata": {},
     "output_type": "execute_result"
    }
   ],
   "source": [
    "fib(8)"
   ]
  },
  {
   "cell_type": "code",
   "execution_count": 60,
   "metadata": {},
   "outputs": [
    {
     "data": {
      "text/plain": [
       "21"
      ]
     },
     "execution_count": 60,
     "metadata": {},
     "output_type": "execute_result"
    }
   ],
   "source": [
    "fib(8)"
   ]
  },
  {
   "cell_type": "code",
   "execution_count": 61,
   "metadata": {},
   "outputs": [
    {
     "name": "stdout",
     "output_type": "stream",
     "text": [
      "Calculating fib 16\n",
      "Calculating fib 15\n",
      "Calculating fib 14\n",
      "Calculating fib 13\n",
      "Calculating fib 12\n",
      "Calculating fib 11\n",
      "Calculating fib 10\n",
      "Calculating fib 9\n"
     ]
    },
    {
     "data": {
      "text/plain": [
       "987"
      ]
     },
     "execution_count": 61,
     "metadata": {},
     "output_type": "execute_result"
    }
   ],
   "source": [
    "fib(16)"
   ]
  },
  {
   "cell_type": "code",
   "execution_count": 62,
   "metadata": {},
   "outputs": [
    {
     "name": "stdout",
     "output_type": "stream",
     "text": [
      "Calculating fib 8\n",
      "Calculating fib 7\n",
      "Calculating fib 6\n",
      "Calculating fib 5\n",
      "Calculating fib 4\n",
      "Calculating fib 3\n",
      "Calculating fib 2\n",
      "Calculating fib 1\n"
     ]
    },
    {
     "data": {
      "text/plain": [
       "21"
      ]
     },
     "execution_count": 62,
     "metadata": {},
     "output_type": "execute_result"
    }
   ],
   "source": [
    "fib(8)"
   ]
  },
  {
   "cell_type": "code",
   "execution_count": 63,
   "metadata": {},
   "outputs": [
    {
     "name": "stdout",
     "output_type": "stream",
     "text": [
      "Calculating fib 16\n",
      "Calculating fib 15\n",
      "Calculating fib 14\n",
      "Calculating fib 13\n",
      "Calculating fib 12\n",
      "Calculating fib 11\n",
      "Calculating fib 10\n",
      "Calculating fib 9\n"
     ]
    },
    {
     "data": {
      "text/plain": [
       "987"
      ]
     },
     "execution_count": 63,
     "metadata": {},
     "output_type": "execute_result"
    }
   ],
   "source": [
    "fib(16)"
   ]
  }
 ],
 "metadata": {
  "kernelspec": {
   "display_name": "Python 3",
   "language": "python",
   "name": "python3"
  },
  "language_info": {
   "codemirror_mode": {
    "name": "ipython",
    "version": 3
   },
   "file_extension": ".py",
   "mimetype": "text/x-python",
   "name": "python",
   "nbconvert_exporter": "python",
   "pygments_lexer": "ipython3",
   "version": "3.9.5"
  }
 },
 "nbformat": 4,
 "nbformat_minor": 4
}
